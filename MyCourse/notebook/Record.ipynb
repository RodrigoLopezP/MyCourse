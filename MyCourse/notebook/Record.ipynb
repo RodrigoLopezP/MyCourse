{
 "cells": [
  {
   "cell_type": "markdown",
   "metadata": {},
   "source": [
    "# I record di C# 9\n",
    "Sono indicati per descrivere dei _value type_, come gli importi monetari, le coordinate geografiche, gli indirizzi.\n",
    "\n",
    ""
   ]
  },
  {
   "cell_type": "markdown",
   "metadata": {},
   "source": [
    "## Definire e istanziare un record\n",
    "In C# 9 è stata introdotta l'apposita parola chiave `record`.  \n",
    "Ecco la *sintassi posizionale*, molto concisa: i nomi tra parentesi sono i parametri che dovremo fornire al suo costruttore."
   ]
  },
  {
   "cell_type": "code",
   "execution_count": 1,
   "metadata": {},
   "source": [
    "public record GeoPosition (float Latitude, float Longitude);"
   ],
   "outputs": []
  },
  {
   "cell_type": "markdown",
   "metadata": {},
   "source": [
    "Ora che abbiamo definito il _record_ `GeoPosition`, andiamo a crearne un'istanza e visualizziamone il contenuto."
   ]
  },
  {
   "cell_type": "code",
   "execution_count": 1,
   "metadata": {},
   "source": [
    "var position1 = new GeoPosition(41.9028f, 12.4964f); // Posizione di Roma\n",
    "position1"
   ],
   "outputs": [
    {
     "output_type": "execute_result",
     "data": {
      "text/html": "<table><thead><tr><th>Latitude</th><th>Longitude</th></tr></thead><tbody><tr><td><div class=\"dni-plaintext\">41.9028</div></td><td><div class=\"dni-plaintext\">12.4964</div></td></tr></tbody></table>"
     },
     "execution_count": 1,
     "metadata": {}
    }
   ]
  },
  {
   "cell_type": "markdown",
   "metadata": {},
   "source": [
    "Come si vede, il record `GeoPosition` ri-espone i valori che gli abbiamo fornito nel costruttore come proprietà `Latitude` e `Longitude`. Se vogliamo rendere più evidenti quali siano le proprietà presenti in un record, possiamo usare questa **sintassi alternativa**, che somiglia in tutto e per tutto a quella delle classi.\n",
    ""
   ]
  },
  {
   "cell_type": "code",
   "execution_count": 1,
   "metadata": {},
   "source": [
    "public record Address\n",
    "{\n",
    "    public string Street { get; init; }\n",
    "    public string City { get; init; }\n",
    "    public string Province { get; init; }\n",
    "}"
   ],
   "outputs": []
  },
  {
   "cell_type": "markdown",
   "metadata": {},
   "source": [
    "Creiamo anche un'istanza di questo record `Address`. In questo caso i valori andranno assegnati alle proprietà, durante l'inizializzazione dell'oggetto."
   ]
  },
  {
   "cell_type": "code",
   "execution_count": 1,
   "metadata": {},
   "source": [
    "var address1 = new Address { Street = \"Corso Mazzini, 44\", City = \"Ostia\", Province = \"RM\" };\n",
    "address1"
   ],
   "outputs": [
    {
     "output_type": "execute_result",
     "data": {
      "text/html": "<table><thead><tr><th>Street</th><th>City</th><th>Province</th></tr></thead><tbody><tr><td><div class=\"dni-plaintext\">Corso Mazzini, 44</div></td><td><div class=\"dni-plaintext\">Ostia</div></td><td><div class=\"dni-plaintext\">RM</div></td></tr></tbody></table>"
     },
     "execution_count": 1,
     "metadata": {}
    }
   ]
  },
  {
   "cell_type": "markdown",
   "metadata": {},
   "source": [
    "## Immutabilità\n",
    "L'aver definito le proprietà `Street`, `City` e `Province` come `get; init;` ci permette di assegnare valori alle proprietà durante l'inizializzazione dell'oggetto e poi mai più.\n",
    " > Nota: La parola chiave `init` non è una prerogativa dei record, ma può essere usata anche nelle proprietà delle classi.\n",
    "\n",
    "Ecco infatti che se provo a ri-assegnare un valore ad una proprietà dei record che abbiamo creato in precedenza, ottengo un errore. **Le proprietà sono quindi in sola lettura**, e queste istanze di record sono di fatto _immutabili_."
   ]
  },
  {
   "cell_type": "code",
   "execution_count": 1,
   "metadata": {},
   "source": [
    "address1.Street = \"Via Nazionale, 13\";"
   ],
   "outputs": [
    {
     "output_type": "error",
     "ename": "Error",
     "evalue": "(1,1): error CS8852: L'indicizzatore o la proprietà di sola inizializzazione 'Address.Street' può essere assegnata solo in un inizializzatore di oggetto oppure in 'this' o 'base' in un costruttore di istanza o una funzione di accesso 'init'.",
     "traceback": []
    }
   ]
  },
  {
   "cell_type": "code",
   "execution_count": 1,
   "metadata": {},
   "source": [
    "position1.Latitude = 42.9028f;"
   ],
   "outputs": [
    {
     "output_type": "error",
     "ename": "Error",
     "evalue": "(1,1): error CS8852: L'indicizzatore o la proprietà di sola inizializzazione 'GeoPosition.Latitude' può essere assegnata solo in un inizializzatore di oggetto oppure in 'this' o 'base' in un costruttore di istanza o una funzione di accesso 'init'.",
     "traceback": []
    }
   ]
  },
  {
   "cell_type": "markdown",
   "metadata": {},
   "source": [
    "Il concetto di immutabilità non è nuovo in C#, infatti poteva essere ottenuto anche in precedenza semplicemente fornendo i valori dell'oggetto come parametri del costruttore e ri-esponendoli come proprietà prive di `set`. Il tipo `DateTime` è un esempio di ciò.\n",
    ""
   ]
  },
  {
   "cell_type": "code",
   "execution_count": 1,
   "metadata": {},
   "source": [
    "var christmas = new DateTime(2020, 12, 25);\n",
    "christmas.Month = 10;"
   ],
   "outputs": [
    {
     "output_type": "error",
     "ename": "Error",
     "evalue": "(2,1): error CS0200: Non è possibile assegnare un valore alla proprietà o all'indicizzatore 'DateTime.Month' perché è di sola lettura",
     "traceback": []
    }
   ]
  },
  {
   "cell_type": "markdown",
   "metadata": {},
   "source": [
    "Se ho bisogno di _mutare_, cioè modificare, il valore di una delle proprietà di un record sono quindi obbligato a creare una nuova istanza. Posso usare la nuova parola chiave `with` per _emendare_ un record esistente, cioè per modificare una sola delle sue proprietà mantenendo intatte le altre. In questo esempio ottengo un nuovo record `address2` modificando solo la proprietà `Street` del record `address1`."
   ]
  },
  {
   "cell_type": "code",
   "execution_count": 1,
   "metadata": {},
   "source": [
    "Address address2 = address1 with { Street = \"Via Nazionale, 13\" };\n",
    "address2"
   ],
   "outputs": [
    {
     "output_type": "execute_result",
     "data": {
      "text/html": "<table><thead><tr><th>Street</th><th>City</th><th>Province</th></tr></thead><tbody><tr><td><div class=\"dni-plaintext\">Via Nazionale, 13</div></td><td><div class=\"dni-plaintext\">Ostia</div></td><td><div class=\"dni-plaintext\">RM</div></td></tr></tbody></table>"
     },
     "execution_count": 1,
     "metadata": {}
    }
   ]
  },
  {
   "cell_type": "markdown",
   "metadata": {},
   "source": [
    "L'_immutabilità_ dei record è una caratteristica che ci aiuta a ridurre i bug nella nostra applicazione. Infatti, grazie ad essa abbiamo l'assoluta certezza che se passiamo l'istanza di un record a vari componenti della nostra applicazione, essi non potranno modificare i suoi valori in nessun modo.\n",
    ""
   ]
  },
  {
   "cell_type": "markdown",
   "metadata": {},
   "source": [
    "## Estendibilità e comportamento\n",
    "I record permettono di definire al loro interno ANCHE **metodi** e **proprietà con setter pubblico**. In questi casi i valori di un record potranno essere mutati."
   ]
  },
  {
   "cell_type": "code",
   "execution_count": 1,
   "metadata": {},
   "source": [
    "public record Money\n",
    "{\n",
    "    public string Currency { get; init; } // Immutabile\n",
    "    public decimal Amount { get; set; } // Mutabile\n",
    "    \n",
    "    public void Increment (decimal amount) { // Amount è mutabile anche con questo metodo\n",
    "        Amount += amount;\n",
    "    }\n",
    "}"
   ],
   "outputs": []
  },
  {
   "cell_type": "markdown",
   "metadata": {},
   "source": [
    "Ecco che infatti sono libero di modificare il valore di `Amount` anche dopo la costruzione dell'oggetto."
   ]
  },
  {
   "cell_type": "code",
   "execution_count": 1,
   "metadata": {},
   "source": [
    "var price1 = new Money { Currency = \"EUR\", Amount = 1.00m };\n",
    "price1.Amount = 2.00m;\n",
    "price1.Increment(1.00m);\n",
    "price1"
   ],
   "outputs": [
    {
     "output_type": "execute_result",
     "data": {
      "text/html": "<table><thead><tr><th>Currency</th><th>Amount</th></tr></thead><tbody><tr><td><div class=\"dni-plaintext\">EUR</div></td><td><div class=\"dni-plaintext\">3.00</div></td></tr></tbody></table>"
     },
     "execution_count": 1,
     "metadata": {}
    }
   ]
  },
  {
   "cell_type": "markdown",
   "metadata": {},
   "source": [
    "Non mi è invece possibile modificare la proprietà `Currency` perché era stata definita come `get; init;`."
   ]
  },
  {
   "cell_type": "code",
   "execution_count": 1,
   "metadata": {},
   "source": [
    "price1.Currency = \"USD\";"
   ],
   "outputs": [
    {
     "output_type": "error",
     "ename": "Error",
     "evalue": "(1,1): error CS8852: L'indicizzatore o la proprietà di sola inizializzazione 'Money.Currency' può essere assegnata solo in un inizializzatore di oggetto oppure in 'this' o 'base' in un costruttore di istanza o una funzione di accesso 'init'.",
     "traceback": []
    }
   ]
  },
  {
   "cell_type": "markdown",
   "metadata": {},
   "source": [
    "Anche se avessimo bisogno di mutare i valori, può comunque valere la pena di usare un record anziché una normale classe. Infatti, un'altra caratteristica importante dei _record_, che li differenza dalle classi, è che il compilatore li configura in modo che **l'uguaglianza tra due istanze venga calcolata membro a membro**, ovvero confrontando ciascuno dei valori delle loro proprietà.\n",
    " > Approfondimento tecnico: per far questo, il compilatore genera per noi un override del metodo `Equals` che è quello che viene chiamato quando confrontiamo due oggetti con gli operatori di confronto `==` e `!=`."
   ]
  },
  {
   "cell_type": "code",
   "execution_count": 1,
   "metadata": {},
   "source": [
    "var total1 = new Money { Currency = \"EUR\", Amount = 15.00m };\n",
    "var total2 = new Money { Currency = \"EUR\", Amount = 14.00m };\n",
    "total2.Increment(1.00m);\n",
    "$\"Le due istanze sono uguali: {total1 == total2}\""
   ],
   "outputs": [
    {
     "output_type": "execute_result",
     "data": {
      "text/plain": "Le due istanze sono uguali: True"
     },
     "execution_count": 1,
     "metadata": {}
    }
   ]
  },
  {
   "cell_type": "markdown",
   "metadata": {},
   "source": [
    "I record **supportano anche l'ereditarietà**, proprio come le classi. Infatti, dietro le quinte il compilatore tratta i record proprio come fossero classi. Semplicemente, il compilatore configura i record per avere dei comportamenti particolari, come abbiamo visto nel caso precedente."
   ]
  },
  {
   "cell_type": "code",
   "execution_count": 1,
   "metadata": {},
   "source": [
    "public record Investment : Money\n",
    "{\n",
    "    public int Years { get; init; }\n",
    "}"
   ],
   "outputs": []
  },
  {
   "cell_type": "markdown",
   "metadata": {},
   "source": [
    "Ed ecco che nel record `Investment` possiamo usare le proprietà e i metodi ereditati dal record base `Money`."
   ]
  },
  {
   "cell_type": "code",
   "execution_count": 1,
   "metadata": {},
   "source": [
    "var investment = new Investment { Currency = \"EUR\", Amount = 100.00m, Years = 1 };\n",
    "investment.Increment(50.00m);\n",
    "investment"
   ],
   "outputs": [
    {
     "output_type": "execute_result",
     "data": {
      "text/html": "<table><thead><tr><th>Years</th><th>Currency</th><th>Amount</th></tr></thead><tbody><tr><td><div class=\"dni-plaintext\">1</div></td><td><div class=\"dni-plaintext\">EUR</div></td><td><div class=\"dni-plaintext\">150.00</div></td></tr></tbody></table>"
     },
     "execution_count": 1,
     "metadata": {}
    }
   ]
  },
  {
   "cell_type": "markdown",
   "metadata": {},
   "source": [
    "Un'altra particolarità dei record che li differenzia dalle classi è che il compilatore ridefinisce anche il loro metodo `ToString()`. Proviamo a definire la stessa struttura dati sia come record che come classe e vediamo la differenza."
   ]
  },
  {
   "cell_type": "code",
   "execution_count": 1,
   "metadata": {},
   "source": [
    "public record PointAsRecord\n",
    "{\n",
    "    public int X { get; init; }\n",
    "    public int Y { get; init; }\n",
    "}\n",
    "public class PointAsClass\n",
    "{\n",
    "    public int X { get; init; }\n",
    "    public int Y { get; init; }\n",
    "}\n",
    "\n",
    "var pointAsRecord = new PointAsRecord { X = 1, Y = 2 };\n",
    "var pointAsClass = new PointAsClass { X = 1, Y = 2 };"
   ],
   "outputs": []
  },
  {
   "cell_type": "code",
   "execution_count": 1,
   "metadata": {},
   "source": [
    "pointAsRecord.ToString()"
   ],
   "outputs": [
    {
     "output_type": "execute_result",
     "data": {
      "text/plain": "PointAsRecord { X = 1, Y = 2 }"
     },
     "execution_count": 1,
     "metadata": {}
    }
   ]
  },
  {
   "cell_type": "code",
   "execution_count": 1,
   "metadata": {},
   "source": [
    "pointAsClass.ToString()"
   ],
   "outputs": [
    {
     "output_type": "execute_result",
     "data": {
      "text/plain": "Submission#41+PointAsClass"
     },
     "execution_count": 1,
     "metadata": {}
    }
   ]
  },
  {
   "cell_type": "markdown",
   "metadata": {},
   "source": [
    "Come si vede dall'output, il metodo `ToString()` di un record riporta i valori contenuti in maniera molto chiara. Noi manteniamo comunque la facolta di ridefinire il metodo `ToString()` come preferiamo."
   ]
  },
  {
   "cell_type": "code",
   "execution_count": 1,
   "metadata": {},
   "source": [
    "public record Metric\n",
    "{\n",
    "    public float Value { get; init; }\n",
    "    public string Unit { get; init; }\n",
    "\n",
    "    public override string ToString()\n",
    "    {\n",
    "        return $\"{Value}{Unit}\";\n",
    "    }\n",
    "}"
   ],
   "outputs": []
  },
  {
   "cell_type": "code",
   "execution_count": 1,
   "metadata": {},
   "source": [
    "var weight = new Metric { Value = 72.0f, Unit = \"Kg\" };\n",
    "weight.ToString()"
   ],
   "outputs": [
    {
     "output_type": "execute_result",
     "data": {
      "text/plain": "72Kg"
     },
     "execution_count": 1,
     "metadata": {}
    }
   ]
  },
  {
   "cell_type": "markdown",
   "metadata": {},
   "source": [
    "## Serializzazione\n",
    "I record possono facilmente essere **serializzati e deserializzati in formato json**, così che possano essere scambiati con altri sistemi informatici, ad esempio via REST API oppure salvati su disco o nel database."
   ]
  },
  {
   "cell_type": "code",
   "execution_count": 1,
   "metadata": {},
   "source": [
    "using System.Text.Json;\n",
    "var price3 = new Money { Currency = \"EUR\", Amount = 50.00m };\n",
    "string serializedPrice = JsonSerializer.Serialize(price3);\n",
    "serializedPrice"
   ],
   "outputs": [
    {
     "output_type": "execute_result",
     "data": {
      "text/plain": "{\"Currency\":\"EUR\",\"Amount\":50.00}"
     },
     "execution_count": 1,
     "metadata": {}
    }
   ]
  },
  {
   "cell_type": "code",
   "execution_count": 1,
   "metadata": {},
   "source": [
    "Money deserializedPrice = JsonSerializer.Deserialize<Money>(serializedPrice);\n",
    "deserializedPrice"
   ],
   "outputs": [
    {
     "output_type": "execute_result",
     "data": {
      "text/html": "<table><thead><tr><th>Currency</th><th>Amount</th></tr></thead><tbody><tr><td><div class=\"dni-plaintext\">EUR</div></td><td><div class=\"dni-plaintext\">50.00</div></td></tr></tbody></table>"
     },
     "execution_count": 1,
     "metadata": {}
    }
   ]
  },
  {
   "cell_type": "markdown",
   "metadata": {},
   "source": [
    "**Anche ASP.NET Core supporta in pieno i record**: possiamo infatti riceverli nei controller, come parametri delle action perché il model binding riesce a ricostruirli in base alle informazioni fornite con la richiesta, ad esempio tramite il post di un form.\n",
    "In questo modo, ASP.NET Core su .NET 5 colma una lacuna importante: il model binding prima non era in grado di assegnare valori a proprietà prive di `set` pubblico, impedendoci così di lavorare con strutture _immutabili_.\n",
    ""
   ]
  },
  {
   "cell_type": "markdown",
   "metadata": {},
   "source": [
    "## Decostruzione\n",
    "Se usiamo la sintassi posizionale che abbiamo visto all'inzio, è molto facile **decostruire un record**, ovvero assegnare i suoi valori a singole variabili, rispettando il loro ordine. Decostruire un record è utile, ad esempio, quando vogliamo ottenere i valori da un record e assegnarli a variabili, così che possiamo mutarli a piacimento.\n",
    " > Nota: \"decostruire\" è a volte chiamato \"destrutturare\". Questi termini sono sinonimi e non hanno niente a che fare con il \"distruggere\" un oggetto. Infatti l'oggetto resta intatto e presente in memoria perché durante la decostruzione vengono soltanto letti i suoi valori e copiati su singole variabili."
   ]
  },
  {
   "cell_type": "code",
   "execution_count": 1,
   "metadata": {},
   "source": [
    "public record Observation(float Azimuth, float Altitude);\n",
    "var observation1 = new Observation(30.5511f, 77.14f);\n",
    "var (azimuth, altitude) = observation1;\n",
    "azimuth += 1.0f;\n",
    "azimuth"
   ],
   "outputs": [
    {
     "output_type": "execute_result",
     "data": {
      "text/html": "<div class=\"dni-plaintext\">31.5511</div>"
     },
     "execution_count": 1,
     "metadata": {}
    }
   ]
  },
  {
   "cell_type": "markdown",
   "metadata": {},
   "source": [
    "Se abbiamo definito il record usando la sintassi con le graffe, sarà necessario implementare esplicitamente la logica di decostruzione.\n",
    "> La decostruzione è una funzionalità introdotta con C# 7.0 e perciò può essere usata anche con le classi."
   ]
  },
  {
   "cell_type": "code",
   "execution_count": 1,
   "metadata": {},
   "source": [
    "public record Polar\n",
    "{\n",
    "    public double Angle { get; init; }\n",
    "    public double Distance { get; init; }\n",
    "    public void Deconstruct(out double angle, out double distance)\n",
    "    {\n",
    "        angle = Angle;\n",
    "        distance = Distance;\n",
    "    }\n",
    "}"
   ],
   "outputs": []
  },
  {
   "cell_type": "markdown",
   "metadata": {},
   "source": [
    "Possiamo indicare `_` per scartare le variabili che non ci interessa assegnare. In questo caso ci interessa ottenere solo il valore di `Distance`."
   ]
  },
  {
   "cell_type": "code",
   "execution_count": 1,
   "metadata": {},
   "source": [
    "var polar1 = new Polar { Angle = Math.PI / 2, Distance = 13.5 };\n",
    "var (_, distance) = polar1;\n",
    "distance"
   ],
   "outputs": [
    {
     "output_type": "execute_result",
     "data": {
      "text/html": "<div class=\"dni-plaintext\">13.5</div>"
     },
     "execution_count": 1,
     "metadata": {}
    }
   ]
  },
  {
   "cell_type": "markdown",
   "metadata": {},
   "source": [
    "## Per approfondire\n",
    " * Blog post Microsoft sui record: [https://devblogs.microsoft.com/dotnet/c-9-0-on-the-record/](https://devblogs.microsoft.com/dotnet/c-9-0-on-the-record/)\n",
    " * Comportamento del compilatore con i record: [https://www.thomasclaudiushuber.com/2020/09/01/c-9-0-records-work-with-immutable-data-classes/](https://www.thomasclaudiushuber.com/2020/09/01/c-9-0-records-work-with-immutable-data-classes/)"
   ]
  },
  {
   "cell_type": "code",
   "execution_count": 1,
   "metadata": {},
   "source": [
    ""
   ],
   "outputs": []
  }
 ],
 "metadata": {
  "kernelspec": {
   "display_name": ".NET (C#)",
   "language": "C#",
   "name": ".net-csharp"
  },
  "language_info": {
   "file_extension": ".cs",
   "mimetype": "text/x-csharp",
   "name": "C#",
   "pygments_lexer": "csharp",
   "version": "8.0"
  }
 },
 "nbformat": 4,
 "nbformat_minor": 4
}